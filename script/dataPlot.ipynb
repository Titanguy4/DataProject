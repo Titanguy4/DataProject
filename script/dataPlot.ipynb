{
 "cells": [
  {
   "cell_type": "code",
   "id": "initial_id",
   "metadata": {
    "collapsed": true,
    "ExecuteTime": {
     "end_time": "2024-12-18T14:24:39.070585Z",
     "start_time": "2024-12-18T14:24:38.357086Z"
    }
   },
   "source": [
    "\"\"\"\n",
    "Ce script permet de visualiser l'évolution de la hauteur de l'eau en 2D en fonction du temps.\n",
    "Il faut spécifier le numéro de l'expérience, le paramètre à visualiser (hauteur de l'eau ou norme du débit)\n",
    "et la résolution (HR ou LR).\n",
    "\"\"\"\n",
    "\n",
    "import os\n",
    "import numpy as np\n",
    "import matplotlib\n",
    "from numpy import ndarray\n",
    "\n",
    "matplotlib.use(\"TkAgg\") # to show animation in PyCharm\n",
    "import matplotlib.pyplot as plt\n",
    "from matplotlib.animation import FuncAnimation"
   ],
   "outputs": [],
   "execution_count": 2
  },
  {
   "metadata": {
    "ExecuteTime": {
     "end_time": "2024-12-18T14:24:42.273622Z",
     "start_time": "2024-12-18T14:24:42.270398Z"
    }
   },
   "cell_type": "code",
   "source": [
    "# Paramètres de l'animation\n",
    "num_seconds = 600\n",
    "num_experiments = 1\n",
    "parameter = \"h_evol\" # h_evol ou q_norm_evol\n",
    "resolution = \"LR\" # HR ou LR\n",
    "\n",
    "folder_path = f\"../donnees/experiences/{num_experiments}/{parameter+'_'+resolution}\" # Dossier contenant les fichiers"
   ],
   "id": "a4bcacea646b8e41",
   "outputs": [],
   "execution_count": 3
  },
  {
   "metadata": {
    "ExecuteTime": {
     "end_time": "2024-12-18T14:24:45.003583Z",
     "start_time": "2024-12-18T14:24:44.998965Z"
    }
   },
   "cell_type": "code",
   "source": [
    "\"\"\"\n",
    "Function to load the data for a given frame\n",
    "Load the data from the file h_evol_{frame}.txt in the folder_path\n",
    "Parameters: frame - the time to load the data for\n",
    "Return the data as a 2D numpy array\n",
    "\"\"\"\n",
    "def load_data_for_time(frame) -> ndarray|None:\n",
    "    file_name = f\"{parameter}_{frame + (((num_experiments-1) * 600) + (num_experiments-1))}.txt\"\n",
    "    file_path = os.path.join(folder_path, file_name)\n",
    "\n",
    "    if os.path.exists(file_path):\n",
    "        data = np.loadtxt(file_path, delimiter=\";\")\n",
    "        if resolution == \"LR\" and data.ndim == 1:\n",
    "            data = data.reshape(1, -1)  # Reshape to 2D if it's a single line\n",
    "        if data.ndim == 2:\n",
    "            return data\n",
    "        else:\n",
    "            print(f\"Invalid data shape {data.shape} in file: {file_name}\")\n",
    "            return None\n",
    "    else:\n",
    "        print(f\"Fichier manquant : {file_name}\")\n",
    "        return None"
   ],
   "id": "4f344a6ec140bc3",
   "outputs": [],
   "execution_count": 4
  },
  {
   "metadata": {
    "ExecuteTime": {
     "end_time": "2024-12-18T14:25:18.458966Z",
     "start_time": "2024-12-18T14:25:18.454545Z"
    }
   },
   "cell_type": "code",
   "source": [
    "\"\"\"\n",
    "Function to search the maximum value in the data (all files)\n",
    "Search the maximum value in the data from the files in the folder_path\n",
    "Return the maximum value and the minimum value\n",
    "\"\"\"\n",
    "def search_extremum_values() -> tuple:\n",
    "    max_value = 0\n",
    "    min_value = 0\n",
    "\n",
    "    for time in range(0, num_seconds + 1):\n",
    "        data_2d = load_data_for_time(time)\n",
    "\n",
    "        if data_2d is not None:\n",
    "            max_value = max(max_value, np.max(data_2d))\n",
    "            min_value = min(min_value, np.min(data_2d))\n",
    "\n",
    "    return min_value, max_value"
   ],
   "id": "c1e53b580097e4b6",
   "outputs": [],
   "execution_count": 6
  },
  {
   "metadata": {
    "ExecuteTime": {
     "end_time": "2024-12-18T14:32:54.649936Z",
     "start_time": "2024-12-18T14:32:54.644871Z"
    }
   },
   "cell_type": "code",
   "source": [
    "\"\"\"\n",
    "Function to initialize the plot\n",
    "Create a figure with a 2D matrix of zeros and a colorbar\n",
    "Return the figure, the axes, the image and the colorbar\n",
    "\"\"\"\n",
    "def init() -> list:\n",
    "    minimum, maximum = search_extremum_values()\n",
    "\n",
    "    fig, ax = plt.subplots()  # Create a figure and axes.\n",
    "    im = ax.imshow(np.zeros((5, 250)) if resolution==\"HR\" else np.zeros((1,50)), cmap='plasma', interpolation='nearest', aspect=25, vmin=minimum, vmax=maximum)\n",
    "\n",
    "    ax.set_title(\"Evolution des données 2D\")\n",
    "    ax.set_xlabel(\"Index X\")\n",
    "    ax.set_ylabel(\"Index Y\")\n",
    "    cbar = plt.colorbar(im, ax=ax, label=f'{\"Valeurs de la hauteur eau\" if parameter==\"h_evol\" else \"Valeurs de la norme du débit\"}')\n",
    "    cbar.set_ticks(np.linspace(minimum, maximum, 15))\n",
    "\n",
    "    return [fig, ax, im]"
   ],
   "id": "ef84e632260c4316",
   "outputs": [],
   "execution_count": 8
  },
  {
   "metadata": {
    "ExecuteTime": {
     "end_time": "2024-12-18T14:33:00.476530Z",
     "start_time": "2024-12-18T14:33:00.471224Z"
    }
   },
   "cell_type": "code",
   "source": [
    "\"\"\"\n",
    "Function to update the plot\n",
    "Change the data of the image to the data for the current time\n",
    "Parameters: frame - the current time, image - the image to update, axes - the axes of the plot\n",
    "Return the updated image\n",
    "\"\"\"\n",
    "def update(frame, image, axes) -> list:\n",
    "    data_2d = load_data_for_time(frame)\n",
    "\n",
    "    if data_2d is not None:\n",
    "        image.set_data(data_2d)\n",
    "\n",
    "    axes.set_title(f\"Evolution de {parameter} - Expérience {num_experiments} - Seconde {frame} - {resolution}\")\n",
    "    return image"
   ],
   "id": "1501033a2da64c50",
   "outputs": [],
   "execution_count": 9
  },
  {
   "metadata": {
    "ExecuteTime": {
     "end_time": "2024-12-18T14:35:02.193078Z",
     "start_time": "2024-12-18T14:34:50.215809Z"
    }
   },
   "cell_type": "code",
   "source": [
    "def __main__() -> None:\n",
    "    figure, axes, image = init()\n",
    "    # Create a variable to not delete the animation before the end\n",
    "    animation = FuncAnimation(figure, update, fargs=(image, axes), frames=range(0, num_seconds))\n",
    "    plt.tight_layout() # To space the plot correctly\n",
    "    plt.show()\n",
    "\n",
    "__main__()"
   ],
   "id": "4aaf17baaf0ec5c0",
   "outputs": [
    {
     "name": "stderr",
     "output_type": "stream",
     "text": [
      "2024-12-18 15:34:51.449 Python[33985:574184] +[IMKClient subclass]: chose IMKClient_Legacy\n",
      "2024-12-18 15:34:51.449 Python[33985:574184] +[IMKInputSession subclass]: chose IMKInputSession_Legacy\n"
     ]
    }
   ],
   "execution_count": 10
  }
 ],
 "metadata": {
  "kernelspec": {
   "display_name": "Python 3",
   "language": "python",
   "name": "python3"
  },
  "language_info": {
   "codemirror_mode": {
    "name": "ipython",
    "version": 2
   },
   "file_extension": ".py",
   "mimetype": "text/x-python",
   "name": "python",
   "nbconvert_exporter": "python",
   "pygments_lexer": "ipython2",
   "version": "2.7.6"
  }
 },
 "nbformat": 4,
 "nbformat_minor": 5
}
